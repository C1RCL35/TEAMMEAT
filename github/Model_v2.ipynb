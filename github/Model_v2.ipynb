{
 "cells": [
  {
   "cell_type": "code",
   "execution_count": 1,
   "metadata": {},
   "outputs": [],
   "source": [
    "import numpy as np\n",
    "import pandas as pd\n",
    "from sklearn.linear_model import Ridge\n",
    "from sklearn.model_selection import train_test_split\n",
    "from sklearn.metrics import mean_squared_error\n",
    "from sklearn.preprocessing import OneHotEncoder\n",
    "from sklearn.preprocessing import StandardScaler\n",
    "from sklearn.compose import ColumnTransformer\n",
    "from sklearn.pipeline import Pipeline\n",
    "from sklearn.preprocessing import PolynomialFeatures\n",
    "import matplotlib.pyplot as plt"
   ]
  },
  {
   "cell_type": "code",
   "execution_count": 2,
   "metadata": {},
   "outputs": [],
   "source": [
    "df = pd.read_csv('Model Data.csv', header=1)\n",
    "\n",
    "df = df.drop(columns=['Month', 'DOW'])"
   ]
  },
  {
   "cell_type": "code",
   "execution_count": 3,
   "metadata": {},
   "outputs": [],
   "source": [
    "# detect continuous features\n",
    "continuous_cols = df.select_dtypes(include=[np.number]).columns.tolist()\n",
    "\n",
    "# detect categorical features\n",
    "categorical_cols = df.select_dtypes(include=[object, bool]).columns.tolist()\n",
    "\n",
    "# remove the response variable, assuming it's in a column named `y`\n",
    "continuous_cols.remove('Avg conversions per user')"
   ]
  },
  {
   "cell_type": "code",
   "execution_count": 4,
   "metadata": {},
   "outputs": [],
   "source": [
    "# define the transformers\n",
    "transformers = [\n",
    "    ('continuous', StandardScaler(), continuous_cols),\n",
    "    ('categorical', 'passthrough', categorical_cols)\n",
    "]\n",
    "\n",
    "# create a column transformer with the defined transformers\n",
    "ct = ColumnTransformer(transformers)\n",
    "\n",
    "# fit the column transformer to the DataFrame\n",
    "ct.fit(df)\n",
    "\n",
    "# apply the column transformer to the DataFrame\n",
    "df_scaled = ct.transform(df)\n",
    "\n",
    "# convert the transformed array back to a DataFrame\n",
    "df_scaled = pd.DataFrame(df_scaled, columns=continuous_cols + categorical_cols)"
   ]
  },
  {
   "attachments": {},
   "cell_type": "markdown",
   "metadata": {},
   "source": [
    "# Fit the Model"
   ]
  },
  {
   "cell_type": "code",
   "execution_count": 5,
   "metadata": {},
   "outputs": [],
   "source": [
    "X = df_scaled\n",
    "# X = df.drop(columns=['Avg conversions per user'])\n",
    "y = df['Avg conversions per user']"
   ]
  },
  {
   "cell_type": "code",
   "execution_count": 6,
   "metadata": {},
   "outputs": [
    {
     "data": {
      "text/html": [
       "<style>#sk-container-id-1 {color: black;background-color: white;}#sk-container-id-1 pre{padding: 0;}#sk-container-id-1 div.sk-toggleable {background-color: white;}#sk-container-id-1 label.sk-toggleable__label {cursor: pointer;display: block;width: 100%;margin-bottom: 0;padding: 0.3em;box-sizing: border-box;text-align: center;}#sk-container-id-1 label.sk-toggleable__label-arrow:before {content: \"▸\";float: left;margin-right: 0.25em;color: #696969;}#sk-container-id-1 label.sk-toggleable__label-arrow:hover:before {color: black;}#sk-container-id-1 div.sk-estimator:hover label.sk-toggleable__label-arrow:before {color: black;}#sk-container-id-1 div.sk-toggleable__content {max-height: 0;max-width: 0;overflow: hidden;text-align: left;background-color: #f0f8ff;}#sk-container-id-1 div.sk-toggleable__content pre {margin: 0.2em;color: black;border-radius: 0.25em;background-color: #f0f8ff;}#sk-container-id-1 input.sk-toggleable__control:checked~div.sk-toggleable__content {max-height: 200px;max-width: 100%;overflow: auto;}#sk-container-id-1 input.sk-toggleable__control:checked~label.sk-toggleable__label-arrow:before {content: \"▾\";}#sk-container-id-1 div.sk-estimator input.sk-toggleable__control:checked~label.sk-toggleable__label {background-color: #d4ebff;}#sk-container-id-1 div.sk-label input.sk-toggleable__control:checked~label.sk-toggleable__label {background-color: #d4ebff;}#sk-container-id-1 input.sk-hidden--visually {border: 0;clip: rect(1px 1px 1px 1px);clip: rect(1px, 1px, 1px, 1px);height: 1px;margin: -1px;overflow: hidden;padding: 0;position: absolute;width: 1px;}#sk-container-id-1 div.sk-estimator {font-family: monospace;background-color: #f0f8ff;border: 1px dotted black;border-radius: 0.25em;box-sizing: border-box;margin-bottom: 0.5em;}#sk-container-id-1 div.sk-estimator:hover {background-color: #d4ebff;}#sk-container-id-1 div.sk-parallel-item::after {content: \"\";width: 100%;border-bottom: 1px solid gray;flex-grow: 1;}#sk-container-id-1 div.sk-label:hover label.sk-toggleable__label {background-color: #d4ebff;}#sk-container-id-1 div.sk-serial::before {content: \"\";position: absolute;border-left: 1px solid gray;box-sizing: border-box;top: 0;bottom: 0;left: 50%;z-index: 0;}#sk-container-id-1 div.sk-serial {display: flex;flex-direction: column;align-items: center;background-color: white;padding-right: 0.2em;padding-left: 0.2em;position: relative;}#sk-container-id-1 div.sk-item {position: relative;z-index: 1;}#sk-container-id-1 div.sk-parallel {display: flex;align-items: stretch;justify-content: center;background-color: white;position: relative;}#sk-container-id-1 div.sk-item::before, #sk-container-id-1 div.sk-parallel-item::before {content: \"\";position: absolute;border-left: 1px solid gray;box-sizing: border-box;top: 0;bottom: 0;left: 50%;z-index: -1;}#sk-container-id-1 div.sk-parallel-item {display: flex;flex-direction: column;z-index: 1;position: relative;background-color: white;}#sk-container-id-1 div.sk-parallel-item:first-child::after {align-self: flex-end;width: 50%;}#sk-container-id-1 div.sk-parallel-item:last-child::after {align-self: flex-start;width: 50%;}#sk-container-id-1 div.sk-parallel-item:only-child::after {width: 0;}#sk-container-id-1 div.sk-dashed-wrapped {border: 1px dashed gray;margin: 0 0.4em 0.5em 0.4em;box-sizing: border-box;padding-bottom: 0.4em;background-color: white;}#sk-container-id-1 div.sk-label label {font-family: monospace;font-weight: bold;display: inline-block;line-height: 1.2em;}#sk-container-id-1 div.sk-label-container {text-align: center;}#sk-container-id-1 div.sk-container {/* jupyter's `normalize.less` sets `[hidden] { display: none; }` but bootstrap.min.css set `[hidden] { display: none !important; }` so we also need the `!important` here to be able to override the default hidden behavior on the sphinx rendered scikit-learn.org. See: https://github.com/scikit-learn/scikit-learn/issues/21755 */display: inline-block !important;position: relative;}#sk-container-id-1 div.sk-text-repr-fallback {display: none;}</style><div id=\"sk-container-id-1\" class=\"sk-top-container\"><div class=\"sk-text-repr-fallback\"><pre>Ridge(alpha=0.1)</pre><b>In a Jupyter environment, please rerun this cell to show the HTML representation or trust the notebook. <br />On GitHub, the HTML representation is unable to render, please try loading this page with nbviewer.org.</b></div><div class=\"sk-container\" hidden><div class=\"sk-item\"><div class=\"sk-estimator sk-toggleable\"><input class=\"sk-toggleable__control sk-hidden--visually\" id=\"sk-estimator-id-1\" type=\"checkbox\" checked><label for=\"sk-estimator-id-1\" class=\"sk-toggleable__label sk-toggleable__label-arrow\">Ridge</label><div class=\"sk-toggleable__content\"><pre>Ridge(alpha=0.1)</pre></div></div></div></div></div>"
      ],
      "text/plain": [
       "Ridge(alpha=0.1)"
      ]
     },
     "execution_count": 6,
     "metadata": {},
     "output_type": "execute_result"
    }
   ],
   "source": [
    "alpha = 0.1  # regularization parameter\n",
    "model = Ridge(alpha=alpha)\n",
    "model.fit(X, y)"
   ]
  },
  {
   "cell_type": "code",
   "execution_count": 7,
   "metadata": {},
   "outputs": [
    {
     "name": "stdout",
     "output_type": "stream",
     "text": [
      "                                             Variable  Coefficient\n",
      "                                          Event count     0.299154\n",
      "                                                Views    -0.236816\n",
      "                        Active Users Trending (1 Day)    -0.234816\n",
      "                                           URL (/   )     0.096556\n",
      "                      Active Users Trending (30 Days)    -0.039397\n",
      "             Page (Marathon Key Restaurants | Dining)    -0.032341\n",
      "              Page (Reservations - Room Availability)     0.030981\n",
      "                  Page (Reservations - Guest Details)    -0.028779\n",
      "                                               Chrome     0.021518\n",
      "Page (Reservations - Room Availability for Next Room)     0.020678\n",
      "                                      Android Webview     0.020088\n",
      "                                 Page (Title Not Set)     0.016654\n",
      "                  Average engagement time per session     0.014261\n",
      "                          URL (/marathon-hotel-deals)     0.012258\n",
      "                                            DCG Email    -0.010397\n",
      "                                   DCG Organic Search    -0.010149\n",
      "                                      Safari (in-app)     0.008873\n",
      "                            Engaged sessions per user    -0.007870\n",
      "                                                 Edge    -0.005924\n",
      "                                               Safari     0.005319\n",
      "         Page (Faro Blanco Resort | Official Website)     0.004952\n",
      "                       Active Users Trending (7 Days)     0.004828\n",
      "                                      DCG Paid Search    -0.003803\n",
      "                                First time purchasers     0.003764\n",
      "                          URL (/marathon-hotel-rooms)     0.003198\n",
      "                          URL (/marathon-restaurants)     0.002217\n",
      "                                       DCG Unassigned    -0.001974\n",
      "                               URL (/marathon-resort)    -0.001760\n",
      "                                           DCG Direct     0.001237\n"
     ]
    }
   ],
   "source": [
    "coef = model.coef_\n",
    "names = X.columns\n",
    "\n",
    "coef_df = pd.DataFrame({'Variable': names, 'Coefficient': coef})\n",
    "coef_df = coef_df.reindex(coef_df['Coefficient'].abs().sort_values(ascending=False).index)\n",
    "\n",
    "print(coef_df.to_string(index=False))"
   ]
  },
  {
   "cell_type": "code",
   "execution_count": 8,
   "metadata": {},
   "outputs": [
    {
     "name": "stdout",
     "output_type": "stream",
     "text": [
      "Mean squared error: 0.01\n"
     ]
    }
   ],
   "source": [
    "y_pred = model.predict(X)\n",
    "\n",
    "mse = mean_squared_error(y, y_pred)\n",
    "print(f'Mean squared error: {mse:.2f}')"
   ]
  },
  {
   "cell_type": "code",
   "execution_count": 9,
   "metadata": {},
   "outputs": [
    {
     "data": {
      "image/png": "[encoded data removed]",
      "text/plain": [
       "<Figure size 432x288 with 1 Axes>"
      ]
     },
     "metadata": {
      "needs_background": "light"
     },
     "output_type": "display_data"
    }
   ],
   "source": [
    "plt.scatter(y, y_pred)\n",
    "plt.xlabel('Actual values')\n",
    "plt.ylabel('Predicted values')\n",
    "plt.show()"
   ]
  },
  {
   "cell_type": "code",
   "execution_count": 10,
   "metadata": {},
   "outputs": [
    {
     "data": {
      "image/png": "[encoded data removed]",
      "text/plain": [
       "<Figure size 432x288 with 1 Axes>"
      ]
     },
     "metadata": {
      "needs_background": "light"
     },
     "output_type": "display_data"
    }
   ],
   "source": [
    "plt.plot(y.values, label='Actual')\n",
    "plt.plot(y_pred, label='Predicted')\n",
    "plt.xlabel('Data point')\n",
    "plt.ylabel('Target variable')\n",
    "plt.title('Actual vs. predicted values')\n",
    "plt.legend()\n",
    "plt.show()"
   ]
  },
  {
   "cell_type": "code",
   "execution_count": 13,
   "metadata": {},
   "outputs": [
    {
     "data": {
      "text/plain": [
       "'Event count'"
      ]
     },
     "execution_count": 13,
     "metadata": {},
     "output_type": "execute_result"
    }
   ],
   "source": [
    "coef_df.iloc[0]['Variable']"
   ]
  },
  {
   "cell_type": "code",
   "execution_count": null,
   "metadata": {},
   "outputs": [],
   "source": [
    "# df = pd.read_csv('Model Data.csv', header=1)\n",
    "# continuous_cols = df.select_dtypes(include=[np.number]).columns.tolist()\n",
    "# categorical_cols = df.select_dtypes(include=[object, bool]).columns.tolist()\n",
    "# continuous_cols.remove('Avg conversions per user')\n",
    "# transformers = [\n",
    "#     ('continuous', StandardScaler(), continuous_cols),\n",
    "#     ('categorical', 'passthrough', categorical_cols)\n",
    "# ]\n",
    "# ct = ColumnTransformer(transformers)\n",
    "# ct.fit(df)\n",
    "# df_scaled = ct.transform(df)\n",
    "# df_scaled = pd.DataFrame(df_scaled, columns=continuous_cols + categorical_cols)\n",
    "# X = df_scaled\n",
    "# y = df['Avg conversions per user']\n",
    "# alpha = 0.1  # regularization parameter\n",
    "# model = Ridge(alpha=alpha)\n",
    "# model.fit(X, y)\n",
    "# coef = model.coef_\n",
    "# names = X.columns\n",
    "# coef_df = pd.DataFrame({'Variable': names, 'Coefficient': coef})\n",
    "# coef_df = coef_df.reindex(coef_df['Coefficient'].abs().sort_values(ascending=False).index)\n",
    "# y_pred = model.predict(X)\n",
    "# mse = mean_squared_error(y, y_pred)"
   ]
  }
 ],
 "metadata": {
  "kernelspec": {
   "display_name": "Python 3",
   "language": "python",
   "name": "python3"
  },
  "language_info": {
   "codemirror_mode": {
    "name": "ipython",
    "version": 3
   },
   "file_extension": ".py",
   "mimetype": "text/x-python",
   "name": "python",
   "nbconvert_exporter": "python",
   "pygments_lexer": "ipython3",
   "version": "3.10.5"
  },
  "orig_nbformat": 4,
  "vscode": {
   "interpreter": {
    "hash": "73e2911bb7d126d661271ac81d23e807eb9c771b09624ddb33917b6ec5555ef0"
   }
  }
 },
 "nbformat": 4,
 "nbformat_minor": 2
}
